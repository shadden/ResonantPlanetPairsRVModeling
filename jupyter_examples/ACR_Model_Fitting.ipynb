{
 "cells": [
  {
   "cell_type": "markdown",
   "metadata": {},
   "source": [
    "Load packages"
   ]
  },
  {
   "cell_type": "code",
   "execution_count": 1,
   "metadata": {},
   "outputs": [
    {
     "name": "stderr",
     "output_type": "stream",
     "text": [
      "unclosed file <_io.TextIOWrapper name='/Users/shadden/anaconda/lib/python3.6/site-packages/astropy/extern/bundled/six.py' mode='r' encoding='utf-8'>\n"
     ]
    }
   ],
   "source": [
    "import numpy as np\n",
    "import radvel\n",
    "import pickle\n",
    "import pandas as pd\n",
    "import sys\n",
    "import re\n",
    "import dynesty\n",
    "DATADIR = \"../data/\"\n",
    "sys.path+= [\"../\"]\n",
    "import matplotlib.pyplot as plt\n",
    "%matplotlib inline"
   ]
  },
  {
   "cell_type": "code",
   "execution_count": 2,
   "metadata": {
    "collapsed": true
   },
   "outputs": [],
   "source": [
    "from ResonantRV_Utils import get_acr_like\n",
    "from ResonantPairModel import ACRModelPrior, ACRModelPriorTransform"
   ]
  },
  {
   "cell_type": "markdown",
   "metadata": {},
   "source": [
    "# Example RV Fitting\n",
    "\n",
    "This notebook constains examples demonstrating our ACR model and RV fitting methods. We conduct MCMC and nested sampling fits to compute posterior samples and estimate the Baysian evidence of the model. We generate `radvel.likelihood.CompositeLikelihood` and `radvel.posterior.Posterior` objects for the model under consideration.  The posterior objects are used in a MCMC fit to generate posterior samples.  The likelihood objects are used along side a transformation of the unit cube to run a nested sampling algorithm using `dynesty`.\n",
    "\n",
    "\n",
    "We begin by selecting our example system as  **HD 33844**"
   ]
  },
  {
   "cell_type": "code",
   "execution_count": 7,
   "metadata": {
    "collapsed": true
   },
   "outputs": [],
   "source": [
    "ObservationsDF = pd.read_pickle(DATADIR+\"All_Observations.pkl\")\n",
    "system='HD 33844'\n",
    "Observations = ObservationsDF.query('system==@system')"
   ]
  },
  {
   "cell_type": "code",
   "execution_count": 11,
   "metadata": {},
   "outputs": [
    {
     "data": {
      "text/plain": [
       "1.84"
      ]
     },
     "execution_count": 11,
     "metadata": {},
     "output_type": "execute_result"
    }
   ],
   "source": [
    "HostStarInfoFile = \"../data/HostStarInfo.pkl\"\n",
    "with open(HostStarInfoFile,\"rb\") as fi:\n",
    "    HostStarData=pickle.load(fi)\n",
    "HostStarData[system][0]\n"
   ]
  },
  {
   "cell_type": "code",
   "execution_count": 14,
   "metadata": {},
   "outputs": [
    {
     "data": {
      "text/plain": [
       "[0.82, 'Correia2009']"
      ]
     },
     "execution_count": 14,
     "metadata": {},
     "output_type": "execute_result"
    }
   ],
   "source": [
    "HostStarData['HD 45364']"
   ]
  },
  {
   "cell_type": "markdown",
   "metadata": {},
   "source": [
    "# ACR model"
   ]
  },
  {
   "cell_type": "markdown",
   "metadata": {},
   "source": [
    "Generate likelihood object for ACR model"
   ]
  },
  {
   "cell_type": "code",
   "execution_count": 9,
   "metadata": {},
   "outputs": [],
   "source": [
    "res_j,res_k = 5,2\n",
    "acr_model_like = get_acr_like(Observations,res_j,res_k,ACR_data_file=\"../ACR_locations_data.pkl\")"
   ]
  },
  {
   "cell_type": "markdown",
   "metadata": {},
   "source": [
    "Set initial values of 'like' object parameters to the values stored in the full model (where applicable). Parameters not shared with the full model assume their default values. We'll use this as an initial guess for max-likelihood fitting. "
   ]
  },
  {
   "cell_type": "code",
   "execution_count": null,
   "metadata": {
    "collapsed": true
   },
   "outputs": [],
   "source": [
    "for key,par in acr_model_like.params.items():\n",
    "    if key in full_model_like.params.keys():\n",
    "        par.value = full_model_like.params[key].value"
   ]
  },
  {
   "cell_type": "markdown",
   "metadata": {},
   "source": [
    "Create posterior object for radvel MCMC fit"
   ]
  },
  {
   "cell_type": "code",
   "execution_count": null,
   "metadata": {
    "collapsed": true
   },
   "outputs": [],
   "source": [
    "acr_model_post = radvel.posterior.Posterior(acr_model_like)\n",
    "acrpriors = [\n",
    "    ACRModelPrior(),\n",
    "    radvel.prior.Jeffreys('k1',0.2 * k1best, 5 * k1best ),\n",
    "    radvel.prior.Jeffreys('m2_by_m1',0.1,10)\n",
    "]\n",
    "acr_model_post.priors += acrpriors"
   ]
  },
  {
   "cell_type": "markdown",
   "metadata": {},
   "source": [
    "Get max-likelihood starting point using scipy's minimize"
   ]
  },
  {
   "cell_type": "code",
   "execution_count": null,
   "metadata": {
    "collapsed": true
   },
   "outputs": [],
   "source": [
    "from scipy.optimize import minimize"
   ]
  },
  {
   "cell_type": "code",
   "execution_count": null,
   "metadata": {
    "collapsed": true
   },
   "outputs": [],
   "source": [
    "print(\"Before fit: logprob: {:.2f}, loglike: {:.2f}\".format(acr_model_post.logprob(),acr_model_post.logprob()))\n",
    "\n",
    "minresult = minimize(acr_model_post.neglogprob_array,acr_model_post.get_vary_params())\n",
    "\n",
    "print(\"After fit: logprob: {:.2f}, loglike: {:.2f}\".format(acr_model_post.logprob(),acr_model_post.logprob()))"
   ]
  },
  {
   "cell_type": "markdown",
   "metadata": {},
   "source": [
    "Take a look at the fit"
   ]
  },
  {
   "cell_type": "code",
   "execution_count": null,
   "metadata": {
    "collapsed": true
   },
   "outputs": [],
   "source": [
    "from ResonantRV_Utils import plot_fit\n",
    "plot_fit(acr_model_post.likelihood)"
   ]
  },
  {
   "cell_type": "markdown",
   "metadata": {},
   "source": [
    "### 2.1 MCMC Fit"
   ]
  },
  {
   "cell_type": "code",
   "execution_count": null,
   "metadata": {
    "collapsed": true,
    "scrolled": false
   },
   "outputs": [],
   "source": [
    "acr_model_mcmc_results = radvel.mcmc(acr_model_post)"
   ]
  },
  {
   "cell_type": "markdown",
   "metadata": {},
   "source": [
    "The cells below show the eccentricity posteriors of the ACR model. \n",
    "ACR tracks for the 1st and 99th percentile $m_2/m_1$ values are plotted for comparison."
   ]
  },
  {
   "cell_type": "code",
   "execution_count": null,
   "metadata": {
    "collapsed": true
   },
   "outputs": [],
   "source": [
    "# Get planet eccentricities at posterior samples.\n",
    "# Caution: iterrows is annoyingly slow...\n",
    "e1,e2=[],[]\n",
    "for i,x in  acr_model_mcmc_results[acr_model_post.likelihood.list_vary_params()].iterrows():\n",
    "    acr_model_post.likelihood.set_vary_params(x)\n",
    "    e1.append( acr_model_post.likelihood.model.get_synthparams()['e1'].value )\n",
    "    e2.append( acr_model_post.likelihood.model.get_synthparams()['e2'].value )\n",
    "acr_model_mcmc_results['e1'] = e1\n",
    "acr_model_mcmc_results['e2'] = e2"
   ]
  },
  {
   "cell_type": "code",
   "execution_count": null,
   "metadata": {
    "collapsed": true
   },
   "outputs": [],
   "source": [
    "from corner import hist2d\n",
    "\n",
    "from scipy.special import erf\n",
    "fig,ax = plt.subplots(1)\n",
    "\n",
    "hist2d(\n",
    "    acr_model_mcmc_results['e1'].values,acr_model_mcmc_results['e2'].values,\n",
    "    bins = 40,\n",
    "    levels=[erf(i/np.sqrt(2)) for i in range(1,4)],\n",
    "    plot_datapoints=False, plot_density=False,\n",
    "    ax = ax    \n",
    ")\n",
    "\n",
    "for mratio in acr_model_mcmc_results.m2_by_m1.quantile((.01,0.99)):\n",
    "    x,y = np.transpose([ acr_model_post.likelihood.model._acr_curves_fn(mratio,t) for t in np.linspace(0,1)])\n",
    "    ax.plot(x,y,lw=3,color='red')\n",
    "ax.set_xlim(0,0.4)\n",
    "ax.set_ylim(0,0.4)"
   ]
  },
  {
   "cell_type": "markdown",
   "metadata": {},
   "source": [
    "### 2.2 Nested sampling fit"
   ]
  },
  {
   "cell_type": "markdown",
   "metadata": {},
   "source": [
    "Generate a (callable) prior transform object that defines a mapping from the unit hyper-cube to the parameters appearing in the likelihood model. The unit-hypercube is sampled uniformly by the nested sampling algorithm."
   ]
  },
  {
   "cell_type": "code",
   "execution_count": null,
   "metadata": {
    "collapsed": true
   },
   "outputs": [],
   "source": [
    "acr_model_prior_transform = ACRModelPriorTransform(Observations,acr_model_like)"
   ]
  },
  {
   "cell_type": "markdown",
   "metadata": {},
   "source": [
    "Get a dynesty NestedSample object"
   ]
  },
  {
   "cell_type": "code",
   "execution_count": null,
   "metadata": {
    "collapsed": true
   },
   "outputs": [],
   "source": [
    "sampler_acr_model = dynesty.NestedSampler(\n",
    "    acr_model_like.logprob_array,\n",
    "    acr_model_prior_transform,\n",
    "    acr_model_prior_transform.Npars,\n",
    "    sample='rwalk'\n",
    ")"
   ]
  },
  {
   "cell_type": "markdown",
   "metadata": {},
   "source": [
    "Run nested sampling"
   ]
  },
  {
   "cell_type": "code",
   "execution_count": null,
   "metadata": {
    "collapsed": true
   },
   "outputs": [],
   "source": [
    "_ = sampler_acr_model.run_nested()"
   ]
  },
  {
   "cell_type": "markdown",
   "metadata": {},
   "source": [
    "Save the results of nested sampling run."
   ]
  },
  {
   "cell_type": "code",
   "execution_count": null,
   "metadata": {
    "collapsed": true
   },
   "outputs": [],
   "source": [
    "acr_model_nested_results = sampler_acr_model.results"
   ]
  },
  {
   "cell_type": "code",
   "execution_count": null,
   "metadata": {
    "collapsed": true,
    "scrolled": true
   },
   "outputs": [],
   "source": [
    "acr_model_nested_results['logz'][-1]"
   ]
  },
  {
   "cell_type": "markdown",
   "metadata": {},
   "source": [
    "# Model comparison"
   ]
  },
  {
   "cell_type": "markdown",
   "metadata": {},
   "source": [
    "All that is left to do now is to compute the log of our Bayesian odds ratio for our two models:\n",
    "$$\n",
    "\\log\\left(\\frac{{\\cal Z}_{ACR}}{{\\cal Z}_{full}}\\right)\n",
    "$$"
   ]
  },
  {
   "cell_type": "code",
   "execution_count": null,
   "metadata": {
    "collapsed": true
   },
   "outputs": [],
   "source": [
    "acr_model_nested_results['logz'][-1] - full_model_nested_results['logz'][-1]"
   ]
  },
  {
   "cell_type": "code",
   "execution_count": null,
   "metadata": {
    "collapsed": true
   },
   "outputs": [],
   "source": [
    "from ResonantRV_Utils import synthpars_to_sim"
   ]
  },
  {
   "cell_type": "code",
   "execution_count": null,
   "metadata": {
    "collapsed": true
   },
   "outputs": [],
   "source": [
    "sample =acr_model_mcmc_results.iloc[100]\n",
    "acr_model_like.set_vary_params(\n",
    "    sample[acr_model_like.list_vary_params()]\n",
    ")\n",
    "spars = acr_model_like.model.get_synthparams()\n",
    "sim = synthpars_to_sim(spars,t0 = acr_model_like.model.time_base)\n",
    "sim.move_to_com()"
   ]
  },
  {
   "cell_type": "code",
   "execution_count": null,
   "metadata": {
    "collapsed": true
   },
   "outputs": [],
   "source": [
    "vel = []\n",
    "obs_times = acr_model_like.x\n",
    "for time in obs_times:\n",
    "    sim.integrate(time)\n",
    "    vel.append(-1 * sim.particles[0].vz * 1731 * 1e3)\n"
   ]
  },
  {
   "cell_type": "code",
   "execution_count": null,
   "metadata": {
    "collapsed": true
   },
   "outputs": [],
   "source": [
    "plot_fit(acr_model_like)\n",
    "ax = plt.gca()\n",
    "ax.plot(obs_times,vel,'ro')"
   ]
  }
 ],
 "metadata": {
  "kernelspec": {
   "display_name": "Python 3",
   "language": "python",
   "name": "python3"
  },
  "language_info": {
   "codemirror_mode": {
    "name": "ipython",
    "version": 3
   },
   "file_extension": ".py",
   "mimetype": "text/x-python",
   "name": "python",
   "nbconvert_exporter": "python",
   "pygments_lexer": "ipython3",
   "version": "3.6.8"
  }
 },
 "nbformat": 4,
 "nbformat_minor": 2
}
