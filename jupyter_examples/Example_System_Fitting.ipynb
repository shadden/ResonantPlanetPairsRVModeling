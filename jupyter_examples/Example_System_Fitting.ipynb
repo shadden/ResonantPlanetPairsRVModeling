{
 "cells": [
  {
   "cell_type": "markdown",
   "metadata": {},
   "source": [
    "Load packages"
   ]
  },
  {
   "cell_type": "code",
   "execution_count": 1,
   "metadata": {},
   "outputs": [
    {
     "name": "stderr",
     "output_type": "stream",
     "text": [
      "unclosed file <_io.TextIOWrapper name='/Users/shadden/anaconda/lib/python3.6/site-packages/astropy/extern/bundled/six.py' mode='r' encoding='utf-8'>\n",
      "numpy.ufunc size changed, may indicate binary incompatibility. Expected 192 from C header, got 216 from PyObject\n"
     ]
    }
   ],
   "source": [
    "import numpy as np\n",
    "import radvel\n",
    "import pickle\n",
    "import pandas as pd\n",
    "import sys\n",
    "import re\n",
    "import dynesty\n",
    "DATADIR = \"../data/\"\n",
    "sys.path+= [\"../\"]\n",
    "import matplotlib.pyplot as plt\n",
    "%matplotlib inline"
   ]
  },
  {
   "cell_type": "code",
   "execution_count": 2,
   "metadata": {
    "collapsed": true
   },
   "outputs": [],
   "source": [
    "from ResonantRV_Utils import get_acr_like, get_radvel_like\n",
    "from ResonantPairModel import ACRModelPrior, ACRModelPriorTransform\n",
    "from ResonantPairModel import RadvelModelPriorTransform"
   ]
  },
  {
   "cell_type": "markdown",
   "metadata": {},
   "source": [
    "# Example RV Fitting\n",
    "\n",
    "This notebook constains examples demonstrating our RV fitting techniques.\n",
    "The notebook is split into two sections illustrating the 'full' and 'ACR' models in turn.\n",
    "In each section we conduct MCMC and nested sampling fits to compute posterior samples and estimate the Baysian evidence of the model. We generate `radvel.likelihood.CompositeLikelihood` and `radvel.posterior.Posterior` objects for the model under consideration.  The posterior objects are used in a MCMC fit to generate posterior samples.  The likelihood objects are used along side a transformation of the unit cube to run a nested sampling algorithm using `dynesty`.\n",
    "\n",
    "\n",
    "We begin by selecting our example system as  **HD 116029**"
   ]
  },
  {
   "cell_type": "code",
   "execution_count": 3,
   "metadata": {
    "collapsed": true
   },
   "outputs": [],
   "source": [
    "ObservationsDF = pd.read_pickle(DATADIR+\"All_Observations.pkl\")\n",
    "system='HD 116029'\n",
    "Observations = ObservationsDF.query('system==@system')"
   ]
  },
  {
   "cell_type": "markdown",
   "metadata": {},
   "source": [
    "## 1. 'Full' model"
   ]
  },
  {
   "cell_type": "markdown",
   "metadata": {},
   "source": [
    "Select observations for specific system"
   ]
  },
  {
   "cell_type": "markdown",
   "metadata": {},
   "source": [
    "Generate `radvel` likelihood object for 'Full' model"
   ]
  },
  {
   "cell_type": "code",
   "execution_count": 11,
   "metadata": {
    "collapsed": true
   },
   "outputs": [],
   "source": [
    "full_model_like = get_full_like(Observations)"
   ]
  },
  {
   "cell_type": "markdown",
   "metadata": {},
   "source": [
    "Set initial values of 'like' object parameters to a (previously saved) maximum likelihood estimate."
   ]
  },
  {
   "cell_type": "code",
   "execution_count": 21,
   "metadata": {},
   "outputs": [
    {
     "name": "stdout",
     "output_type": "stream",
     "text": [
      "Max likelihood params set with lnprob = -81.6\n"
     ]
    }
   ],
   "source": [
    "with open(\"../data/FullModel_MaxLikelihood_Parameters.pkl\",\"rb\") as fi:\n",
    "    all_pars = pickle.load(fi)\n",
    "best_pars = all_pars[system]\n",
    "for key,par in full_model_like.params.items():\n",
    "    par.value = best_pars[key].value\n",
    "print(\"Max likelihood params set with lnprob = {:.1f}\".format(full_model_like.logprob()))"
   ]
  },
  {
   "cell_type": "markdown",
   "metadata": {},
   "source": [
    "Create posterior object for radvel MCMC fit"
   ]
  },
  {
   "cell_type": "code",
   "execution_count": 22,
   "metadata": {
    "collapsed": true
   },
   "outputs": [],
   "source": [
    "# Get max-likelihood semi-amplitudes.\n",
    "# These are used when setting the logarithmic\n",
    "# piror on semi-amplitudes to restrict the prior\n",
    "# to a finite range.\n",
    "k1best = full_model_like.params['k1'].value\n",
    "k2best = full_model_like.params['k2'].value\n",
    "\n",
    "# Set up posterior object for MCMC\n",
    "full_model_post = radvel.posterior.Posterior(full_model_like)\n",
    "full_model_priors = [\n",
    "    radvel.prior.Jeffreys('k1',0.2 * k1best, 5 * k1best ),\n",
    "    radvel.prior.Jeffreys('k2',0.2 * k2best, 5 * k2best ),\n",
    "    radvel.prior.EccentricityPrior(2)\n",
    "]\n",
    "full_model_post.priors += full_model_priors"
   ]
  },
  {
   "cell_type": "code",
   "execution_count": null,
   "metadata": {
    "collapsed": true
   },
   "outputs": [],
   "source": [
    "p"
   ]
  },
  {
   "cell_type": "code",
   "execution_count": 84,
   "metadata": {},
   "outputs": [
    {
     "data": {
      "text/plain": [
       "(array([1.136, 1.004, 1.377, 1.053, 1.242, 1.238, 1.272, 1.201, 1.297,\n",
       "        1.251, 1.26 , 1.037, 1.173, 1.081, 1.155, 1.14 , 1.217, 1.359,\n",
       "        1.166, 1.204, 1.146, 1.195, 1.116, 1.123, 1.693, 1.214, 1.203,\n",
       "        1.207]),\n",
       " array([4.43887958, 4.40694587, 4.5065824 , 4.41836677, 4.46718255,\n",
       "        4.46607209, 4.47561615, 4.45595746, 4.48278539, 4.46969315,\n",
       "        4.47222047, 4.41458094, 4.44849243, 4.42512338, 4.44378002,\n",
       "        4.43990494, 4.4602965 , 4.50111507, 4.44665176, 4.45676698,\n",
       "        4.4414493 , 4.45434405, 4.43380332, 4.43557041, 4.61296053,\n",
       "        4.45947888, 4.45649693, 4.45757837]))"
      ]
     },
     "execution_count": 84,
     "metadata": {},
     "output_type": "execute_result"
    }
   ],
   "source": [
    "full_model_post.likelihood.yerr,full_model_post.likelihood.errorbars()"
   ]
  },
  {
   "cell_type": "markdown",
   "metadata": {},
   "source": [
    "Get max-likelihood starting point using scipy's minimize"
   ]
  },
  {
   "cell_type": "code",
   "execution_count": 23,
   "metadata": {
    "collapsed": true
   },
   "outputs": [],
   "source": [
    "from scipy.optimize import minimize"
   ]
  },
  {
   "cell_type": "code",
   "execution_count": 24,
   "metadata": {},
   "outputs": [
    {
     "name": "stdout",
     "output_type": "stream",
     "text": [
      "Before fit: logprob: -90.49, loglike: -81.63\n",
      "After fit: logprob: -90.42, loglike: -81.57\n"
     ]
    }
   ],
   "source": [
    "print(\"Before fit: logprob: {:.2f}, loglike: {:.2f}\".format(full_model_post.logprob(),full_model_like.logprob()))\n",
    "\n",
    "minresult = minimize(full_model_post.neglogprob_array,full_model_post.get_vary_params())\n",
    "\n",
    "print(\"After fit: logprob: {:.2f}, loglike: {:.2f}\".format(full_model_post.logprob(),full_model_like.logprob()))"
   ]
  },
  {
   "cell_type": "markdown",
   "metadata": {},
   "source": [
    "Take a look at the fit"
   ]
  },
  {
   "cell_type": "code",
   "execution_count": 25,
   "metadata": {},
   "outputs": [
    {
     "data": {
      "image/png": "[encoded data removed]",
      "text/plain": [
       "<matplotlib.figure.Figure at 0x1201daac8>"
      ]
     },
     "metadata": {
      "needs_background": "light"
     },
     "output_type": "display_data"
    }
   ],
   "source": [
    "from ResonantRV_Utils import plot_fit\n",
    "plot_fit(full_model_post.likelihood)"
   ]
  },
  {
   "cell_type": "markdown",
   "metadata": {},
   "source": [
    "### 1.1 MCMC Fitting\n",
    " This section runs `radvel`'s MCMC fit to generate posterior samples.  \n",
    " \n",
    " \n",
    "Note that parameterization used by our `full_model_post` object is probably not ideal for MCMC sampling; usually MCMC jumps have higher acceptance rate if we parameterize eccentricies and arguments of periapse are sampled in cartesian coordinates. Nonetheless, the MCMC doesn't appear to have much trouble.\n"
   ]
  },
  {
   "cell_type": "code",
   "execution_count": 26,
   "metadata": {
    "scrolled": true
   },
   "outputs": [
    {
     "name": "stdout",
     "output_type": "stream",
     "text": [
      "200000/4000000 (5.0%) steps complete; Running 10604.14 steps/s; Mean acceptance rate = 31.6%; Min Tz = 4200.7; Max G-R = 1.007      \n",
      "Discarding burn-in now that the chains are marginally well-mixed\n",
      "\n",
      "540000/4000000 (13.5%) steps complete; Running 11184.90 steps/s; Mean acceptance rate = 19.4%; Min Tz = 3889.2; Max G-R = 1.007      \n",
      "Chains are well-mixed after 540000 steps! MCMC completed in 50.3 seconds\n",
      "\n",
      "\n"
     ]
    }
   ],
   "source": [
    "mcmc_results = radvel.mcmc(full_model_post)"
   ]
  },
  {
   "cell_type": "markdown",
   "metadata": {},
   "source": [
    "Plot posterior distributions of semi-amplitudes and compare with the old saved samples. Note that the new samples are saved with "
   ]
  },
  {
   "cell_type": "code",
   "execution_count": 29,
   "metadata": {},
   "outputs": [
    {
     "data": {
      "text/plain": [
       "<matplotlib.axes._subplots.AxesSubplot at 0x10c4ae710>"
      ]
     },
     "execution_count": 29,
     "metadata": {},
     "output_type": "execute_result"
    },
    {
     "data": {
      "image/png": "[encoded data removed]",
      "text/plain": [
       "<matplotlib.figure.Figure at 0x125dbc9b0>"
      ]
     },
     "metadata": {
      "needs_background": "light"
     },
     "output_type": "display_data"
    }
   ],
   "source": [
    "fig,ax= plt.subplots(2)\n",
    "\n",
    "mcmc_results.k1.hist(bins=40,histtype='step',ax=ax[0],normed=True)\n",
    "posterior_samples.k1.hist(bins=40,histtype='step',ax=ax[0],normed=True)\n",
    "\n",
    "mcmc_results.k2.hist(bins=40,histtype='step',ax=ax[1],normed=True)\n",
    "posterior_samples.k2.hist(bins=40,histtype='step',ax=ax[1],normed=True)"
   ]
  },
  {
   "cell_type": "markdown",
   "metadata": {},
   "source": [
    "### 1.2 Nested sampling fit"
   ]
  },
  {
   "cell_type": "markdown",
   "metadata": {},
   "source": [
    "Generate a (callable) prior transform object that defines a mapping from the unit hyper-cube to the parameters appearing in the likelihood model. The unit-hypercube is sampled uniformly by the nested sampling algorithm."
   ]
  },
  {
   "cell_type": "code",
   "execution_count": 31,
   "metadata": {
    "collapsed": true
   },
   "outputs": [],
   "source": [
    "full_model_prior_transform = RadvelModelPriorTransform(Observations,full_model_like)"
   ]
  },
  {
   "cell_type": "markdown",
   "metadata": {},
   "source": [
    "Get a dynesty NestedSample object"
   ]
  },
  {
   "cell_type": "code",
   "execution_count": 32,
   "metadata": {
    "collapsed": true
   },
   "outputs": [],
   "source": [
    "full_model_nested_sampler = dynesty.NestedSampler(\n",
    "    full_model_like.logprob_array,\n",
    "    full_model_prior_transform,\n",
    "    full_model_prior_transform.Npars,\n",
    "    sample='rwalk'\n",
    ")"
   ]
  },
  {
   "cell_type": "markdown",
   "metadata": {},
   "source": [
    "Run nested sampling"
   ]
  },
  {
   "cell_type": "code",
   "execution_count": 33,
   "metadata": {},
   "outputs": [
    {
     "name": "stderr",
     "output_type": "stream",
     "text": [
      "iter: 15314 | +500 | bound: 223 | nc: 1 | ncall: 356805 | eff(%):  4.432 | loglstar:   -inf < -83.422 <    inf | logz: -113.480 +/-  0.251 | dlogz:  0.001 >  0.509                                   "
     ]
    }
   ],
   "source": [
    "_ = full_model_nested_sampler.run_nested()"
   ]
  },
  {
   "cell_type": "markdown",
   "metadata": {},
   "source": [
    "Save the results of nested sampling run."
   ]
  },
  {
   "cell_type": "code",
   "execution_count": 34,
   "metadata": {
    "collapsed": true
   },
   "outputs": [],
   "source": [
    "full_model_nested_results = full_model_nested_sampler.results"
   ]
  },
  {
   "cell_type": "code",
   "execution_count": 35,
   "metadata": {},
   "outputs": [
    {
     "data": {
      "text/plain": [
       "-113.47956174177965"
      ]
     },
     "execution_count": 35,
     "metadata": {},
     "output_type": "execute_result"
    }
   ],
   "source": [
    "full_model_nested_results['logz'][-1]"
   ]
  },
  {
   "cell_type": "markdown",
   "metadata": {},
   "source": [
    "## 2. ACR model"
   ]
  },
  {
   "cell_type": "markdown",
   "metadata": {},
   "source": [
    "Generate likelihood object for ACR model"
   ]
  },
  {
   "cell_type": "code",
   "execution_count": 45,
   "metadata": {
    "collapsed": true
   },
   "outputs": [],
   "source": [
    "period_ratio = mcmc_results['per2'] / mcmc_results['per1']\n",
    "period_ratio = period_ratio.median()\n",
    "\n",
    "# Determine nearest first-order resonance based on \n",
    "j_first_order = np.int(np.round(1+1/(period_ratio-1)))\n",
    "\n",
    "# Determine nearest second order resonance\n",
    "j_second_order = np.int(np.round(2+2/(period_ratio-1)))\n",
    "# Check if nearest second order is a 'proper' second order resonance\n",
    "if j_second_order%2==0:\n",
    "    jplus = j_second_order + 1\n",
    "    jminus = j_second_order - 1\n",
    "    delta_plus = np.abs( period_ratio * (jplus - 2 ) / jplus - 1 )\n",
    "    delta_minus = np.abs(period_ratio * (jminus - 2 ) / jminus - 1)\n",
    "    if delta_plus < delta_minus:\n",
    "        j_second_order = jplus\n",
    "    else:\n",
    "        j_second_order = jminus\n"
   ]
  },
  {
   "cell_type": "code",
   "execution_count": 46,
   "metadata": {
    "collapsed": true
   },
   "outputs": [],
   "source": [
    "acr_model_like = get_acr_like(Observations,j_first_order,1)"
   ]
  },
  {
   "cell_type": "markdown",
   "metadata": {},
   "source": [
    "Set initial values of 'like' object parameters to the values stored in the full model (where applicable). Parameters not shared with the full model assume their default values. We'll use this as an initial guess for max-likelihood fitting. "
   ]
  },
  {
   "cell_type": "code",
   "execution_count": 47,
   "metadata": {
    "collapsed": true
   },
   "outputs": [],
   "source": [
    "for key,par in acr_model_like.params.items():\n",
    "    if key in full_model_like.params.keys():\n",
    "        par.value = full_model_like.params[key].value"
   ]
  },
  {
   "cell_type": "markdown",
   "metadata": {},
   "source": [
    "Create posterior object for radvel MCMC fit"
   ]
  },
  {
   "cell_type": "code",
   "execution_count": 50,
   "metadata": {},
   "outputs": [],
   "source": [
    "acr_model_post = radvel.posterior.Posterior(acr_model_like)\n",
    "acrpriors = [\n",
    "    ACRModelPrior(),\n",
    "    radvel.prior.Jeffreys('k1',0.2 * k1best, 5 * k1best ),\n",
    "    radvel.prior.Jeffreys('m2_by_m1',0.1,10)\n",
    "]\n",
    "acr_model_post.priors += acrpriors"
   ]
  },
  {
   "cell_type": "markdown",
   "metadata": {},
   "source": [
    "Get max-likelihood starting point using scipy's minimize"
   ]
  },
  {
   "cell_type": "code",
   "execution_count": 51,
   "metadata": {
    "collapsed": true
   },
   "outputs": [],
   "source": [
    "from scipy.optimize import minimize"
   ]
  },
  {
   "cell_type": "code",
   "execution_count": 52,
   "metadata": {},
   "outputs": [
    {
     "name": "stdout",
     "output_type": "stream",
     "text": [
      "Before fit: logprob: -417.46, loglike: -417.46\n",
      "After fit: logprob: -93.86, loglike: -93.86\n"
     ]
    }
   ],
   "source": [
    "print(\"Before fit: logprob: {:.2f}, loglike: {:.2f}\".format(acr_model_post.logprob(),acr_model_post.logprob()))\n",
    "\n",
    "minresult = minimize(acr_model_post.neglogprob_array,acr_model_post.get_vary_params())\n",
    "\n",
    "print(\"After fit: logprob: {:.2f}, loglike: {:.2f}\".format(acr_model_post.logprob(),acr_model_post.logprob()))"
   ]
  },
  {
   "cell_type": "markdown",
   "metadata": {},
   "source": [
    "Take a look at the fit"
   ]
  },
  {
   "cell_type": "code",
   "execution_count": 53,
   "metadata": {},
   "outputs": [
    {
     "data": {
      "image/png": "[encoded data removed]",
      "text/plain": [
       "<matplotlib.figure.Figure at 0x125c1b5c0>"
      ]
     },
     "metadata": {
      "needs_background": "light"
     },
     "output_type": "display_data"
    }
   ],
   "source": [
    "from ResonantRV_Utils import plot_fit\n",
    "plot_fit(acr_model_post.likelihood)"
   ]
  },
  {
   "cell_type": "markdown",
   "metadata": {},
   "source": [
    "### 2.1 MCMC Fit"
   ]
  },
  {
   "cell_type": "code",
   "execution_count": 43,
   "metadata": {
    "scrolled": false
   },
   "outputs": [
    {
     "name": "stdout",
     "output_type": "stream",
     "text": [
      "200000/4000000 (5.0%) steps complete; Running 14467.83 steps/s; Mean acceptance rate = 44.0%; Min Tz = 1071.6; Max G-R = 1.027      \n",
      "Discarding burn-in now that the chains are marginally well-mixed\n",
      "\n",
      "820000/4000000 (20.5%) steps complete; Running 10996.79 steps/s; Mean acceptance rate = 41.9%; Min Tz = 5316.1; Max G-R = 1.005      \n",
      "Chains are well-mixed after 820000 steps! MCMC completed in 1.1 minutes\n",
      "\n",
      "\n"
     ]
    }
   ],
   "source": [
    "acr_model_mcmc_results = radvel.mcmc(acr_model_post)"
   ]
  },
  {
   "cell_type": "markdown",
   "metadata": {},
   "source": [
    "The cells below show the eccentricity posteriors of the ACR model. \n",
    "ACR tracks for the 1st and 99th percentile $m_2/m_1$ values are plotted for comparison."
   ]
  },
  {
   "cell_type": "code",
   "execution_count": 44,
   "metadata": {
    "collapsed": true
   },
   "outputs": [],
   "source": [
    "# Get planet eccentricities at posterior samples.\n",
    "# Caution: iterrows is annoyingly slow...\n",
    "e1,e2=[],[]\n",
    "for i,x in  acr_model_mcmc_results[acr_model_post.likelihood.list_vary_params()].iterrows():\n",
    "    acr_model_post.likelihood.set_vary_params(x)\n",
    "    e1.append( acr_model_post.likelihood.model.get_synthparams()['e1'].value )\n",
    "    e2.append( acr_model_post.likelihood.model.get_synthparams()['e2'].value )\n",
    "acr_model_mcmc_results['e1'] = e1\n",
    "acr_model_mcmc_results['e2'] = e2"
   ]
  },
  {
   "cell_type": "code",
   "execution_count": 56,
   "metadata": {},
   "outputs": [
    {
     "data": {
      "text/plain": [
       "(0, 0.4)"
      ]
     },
     "execution_count": 56,
     "metadata": {},
     "output_type": "execute_result"
    },
    {
     "data": {
      "image/png": "[encoded data removed]",
      "text/plain": [
       "<matplotlib.figure.Figure at 0x12a542860>"
      ]
     },
     "metadata": {
      "needs_background": "light"
     },
     "output_type": "display_data"
    }
   ],
   "source": [
    "from corner import hist2d\n",
    "\n",
    "from scipy.special import erf\n",
    "fig,ax = plt.subplots(1)\n",
    "\n",
    "hist2d(\n",
    "    acr_model_mcmc_results['e1'].values,acr_model_mcmc_results['e2'].values,\n",
    "    bins = 40,\n",
    "    levels=[erf(i/np.sqrt(2)) for i in range(1,4)],\n",
    "    plot_datapoints=False, plot_density=False,\n",
    "    ax = ax    \n",
    ")\n",
    "\n",
    "for mratio in acr_model_mcmc_results.m2_by_m1.quantile((.01,0.99)):\n",
    "    x,y = np.transpose([ acr_model_post.likelihood.model._acr_curves_fn(mratio,t) for t in np.linspace(0,1)])\n",
    "    ax.plot(x,y,lw=3,color='red')\n",
    "ax.set_xlim(0,0.4)\n",
    "ax.set_ylim(0,0.4)"
   ]
  },
  {
   "cell_type": "markdown",
   "metadata": {},
   "source": [
    "### 2.2 Nested sampling fit"
   ]
  },
  {
   "cell_type": "markdown",
   "metadata": {},
   "source": [
    "Generate a (callable) prior transform object that defines a mapping from the unit hyper-cube to the parameters appearing in the likelihood model. The unit-hypercube is sampled uniformly by the nested sampling algorithm."
   ]
  },
  {
   "cell_type": "code",
   "execution_count": 54,
   "metadata": {
    "collapsed": true
   },
   "outputs": [],
   "source": [
    "acr_model_prior_transform = ACRModelPriorTransform(Observations,acr_model_like)"
   ]
  },
  {
   "cell_type": "markdown",
   "metadata": {},
   "source": [
    "Get a dynesty NestedSample object"
   ]
  },
  {
   "cell_type": "code",
   "execution_count": 55,
   "metadata": {
    "collapsed": true
   },
   "outputs": [],
   "source": [
    "sampler_acr_model = dynesty.NestedSampler(\n",
    "    acr_model_like.logprob_array,\n",
    "    acr_model_prior_transform,\n",
    "    acr_model_prior_transform.Npars,\n",
    "    sample='rwalk'\n",
    ")"
   ]
  },
  {
   "cell_type": "markdown",
   "metadata": {},
   "source": [
    "Run nested sampling"
   ]
  },
  {
   "cell_type": "code",
   "execution_count": 48,
   "metadata": {},
   "outputs": [
    {
     "name": "stderr",
     "output_type": "stream",
     "text": [
      "iter: 11884 | +500 | bound: 147 | nc: 1 | ncall: 271404 | eff(%):  4.563 | loglstar:   -inf < -85.013 <    inf | logz: -108.188 +/-  0.221 | dlogz:  0.001 >  0.509                                   "
     ]
    }
   ],
   "source": [
    "_ = sampler_acr_model.run_nested()"
   ]
  },
  {
   "cell_type": "markdown",
   "metadata": {},
   "source": [
    "Save the results of nested sampling run."
   ]
  },
  {
   "cell_type": "code",
   "execution_count": 49,
   "metadata": {
    "collapsed": true
   },
   "outputs": [],
   "source": [
    "acr_model_nested_results = sampler_acr_model.results"
   ]
  },
  {
   "cell_type": "code",
   "execution_count": 44,
   "metadata": {
    "scrolled": true
   },
   "outputs": [
    {
     "ename": "NameError",
     "evalue": "name 'acr_model_nested_results' is not defined",
     "output_type": "error",
     "traceback": [
      "\u001b[0;31m---------------------------------------------------------------------------\u001b[0m",
      "\u001b[0;31mNameError\u001b[0m                                 Traceback (most recent call last)",
      "\u001b[0;32m<ipython-input-44-aa457ed41d2a>\u001b[0m in \u001b[0;36m<module>\u001b[0;34m()\u001b[0m\n\u001b[0;32m----> 1\u001b[0;31m \u001b[0macr_model_nested_results\u001b[0m\u001b[0;34m[\u001b[0m\u001b[0;34m'logz'\u001b[0m\u001b[0;34m]\u001b[0m\u001b[0;34m[\u001b[0m\u001b[0;34m-\u001b[0m\u001b[0;36m1\u001b[0m\u001b[0;34m]\u001b[0m\u001b[0;34m\u001b[0m\u001b[0;34m\u001b[0m\u001b[0m\n\u001b[0m",
      "\u001b[0;31mNameError\u001b[0m: name 'acr_model_nested_results' is not defined"
     ]
    }
   ],
   "source": [
    "acr_model_nested_results['logz'][-1]"
   ]
  },
  {
   "cell_type": "markdown",
   "metadata": {},
   "source": [
    "# Model comparison"
   ]
  },
  {
   "cell_type": "markdown",
   "metadata": {},
   "source": [
    "All that is left to do now is to compute the log of our Bayesian odds ratio for our two models:\n",
    "$$\n",
    "\\log\\left(\\frac{{\\cal Z}_{ACR}}{{\\cal Z}_{full}}\\right)\n",
    "$$"
   ]
  },
  {
   "cell_type": "code",
   "execution_count": 52,
   "metadata": {},
   "outputs": [
    {
     "data": {
      "text/plain": [
       "5.291888053737566"
      ]
     },
     "execution_count": 52,
     "metadata": {},
     "output_type": "execute_result"
    }
   ],
   "source": [
    "acr_model_nested_results['logz'][-1] - full_model_nested_results['logz'][-1]"
   ]
  },
  {
   "cell_type": "code",
   "execution_count": 64,
   "metadata": {
    "collapsed": true
   },
   "outputs": [],
   "source": [
    "from ResonantRV_Utils import synthpars_to_sim"
   ]
  },
  {
   "cell_type": "code",
   "execution_count": 85,
   "metadata": {
    "collapsed": true
   },
   "outputs": [],
   "source": [
    "sample =acr_model_mcmc_results.iloc[100]\n",
    "acr_model_like.set_vary_params(\n",
    "    sample[acr_model_like.list_vary_params()]\n",
    ")\n",
    "spars = acr_model_like.model.get_synthparams()\n",
    "sim = synthpars_to_sim(spars,t0 = acr_model_like.model.time_base)\n",
    "sim.move_to_com()"
   ]
  },
  {
   "cell_type": "code",
   "execution_count": 94,
   "metadata": {
    "collapsed": true
   },
   "outputs": [],
   "source": [
    "vel = []\n",
    "obs_times = acr_model_like.x\n",
    "for time in obs_times:\n",
    "    sim.integrate(time)\n",
    "    vel.append(-1 * sim.particles[0].vz * 1731 * 1e3)\n"
   ]
  },
  {
   "cell_type": "code",
   "execution_count": 95,
   "metadata": {},
   "outputs": [
    {
     "data": {
      "text/plain": [
       "[<matplotlib.lines.Line2D at 0x135a09860>]"
      ]
     },
     "execution_count": 95,
     "metadata": {},
     "output_type": "execute_result"
    },
    {
     "data": {
      "image/png": "[encoded data removed]",
      "text/plain": [
       "<matplotlib.figure.Figure at 0x13573c080>"
      ]
     },
     "metadata": {
      "needs_background": "light"
     },
     "output_type": "display_data"
    }
   ],
   "source": [
    "plot_fit(acr_model_like)\n",
    "ax = plt.gca()\n",
    "ax.plot(obs_times,vel,'ro')"
   ]
  },
  {
   "cell_type": "code",
   "execution_count": 89,
   "metadata": {},
   "outputs": [
    {
     "data": {
      "text/plain": [
       "<Container object of 3 artists>"
      ]
     },
     "execution_count": 89,
     "metadata": {},
     "output_type": "execute_result"
    },
    {
     "data": {
      "image/png": "[encoded data removed]",
      "text/plain": [
       "<matplotlib.figure.Figure at 0x12f60c320>"
      ]
     },
     "metadata": {
      "needs_background": "light"
     },
     "output_type": "display_data"
    }
   ],
   "source": [
    "x = acr_model_like.x\n",
    "# y = acr_model_like.model(x) + acr_model_like.residuals()\n",
    "\n",
    "# ti = np.linspace(x[0],x[-1],250)\n",
    "\n",
    "# plt.plot(x,np.array(vel) * -1731 * 1e3,'ro')\n",
    "# plt.errorbar(x,y,yerr=acr_model_like.yerr,fmt='ko')"
   ]
  },
  {
   "cell_type": "code",
   "execution_count": null,
   "metadata": {
    "collapsed": true
   },
   "outputs": [],
   "source": [
    "mc"
   ]
  }
 ],
 "metadata": {
  "kernelspec": {
   "display_name": "Python 3",
   "language": "python",
   "name": "python3"
  },
  "language_info": {
   "codemirror_mode": {
    "name": "ipython",
    "version": 3
   },
   "file_extension": ".py",
   "mimetype": "text/x-python",
   "name": "python",
   "nbconvert_exporter": "python",
   "pygments_lexer": "ipython3",
   "version": "3.6.8"
  }
 },
 "nbformat": 4,
 "nbformat_minor": 2
}
