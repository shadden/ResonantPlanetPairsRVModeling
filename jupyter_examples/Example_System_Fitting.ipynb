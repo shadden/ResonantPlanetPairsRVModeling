{
 "cells": [
  {
   "cell_type": "markdown",
   "metadata": {},
   "source": [
    "Load packages"
   ]
  },
  {
   "cell_type": "code",
   "execution_count": 11,
   "metadata": {
    "collapsed": true
   },
   "outputs": [],
   "source": [
    "import numpy as np\n",
    "import radvel\n",
    "import pickle\n",
    "import pandas as pd\n",
    "import sys\n",
    "import re\n",
    "import dynesty\n",
    "DATADIR = \"../data/\"\n",
    "sys.path+= [\"../\"]\n",
    "import matplotlib.pyplot as plt\n",
    "%matplotlib inline"
   ]
  },
  {
   "cell_type": "code",
   "execution_count": 12,
   "metadata": {
    "collapsed": true
   },
   "outputs": [],
   "source": [
    "from ResonantRV_Utils import get_acr_like, get_radvel_like\n",
    "from ResonantPairModel import ACRModelPrior, ACRModelPriorTransform\n",
    "from ResonantPairModel import RadvelModelPriorTransform"
   ]
  },
  {
   "cell_type": "markdown",
   "metadata": {},
   "source": [
    "# Example RV Fitting\n",
    "\n",
    "This notebook constains examples demonstrating our RV fitting techniques.\n",
    "The notebook is split into two sections illustrating the 'full' and 'ACR' models in turn.\n",
    "In each section we conduct MCMC and nested sampling fits to compute posterior samples and estimate the Baysian evidence of the model. We generate `radvel.likelihood.CompositeLikelihood` and `radvel.posterior.Posterior` objects for the model under consideration.  The posterior objects are used in a MCMC fit to generate posterior samples.  The likelihood objects are used along side a transformation of the unit cube to run a nested sampling algorithm using `dynesty`.\n",
    "\n",
    "\n",
    "We begin by selecting our example system as  **HD 116029**"
   ]
  },
  {
   "cell_type": "code",
   "execution_count": 13,
   "metadata": {
    "collapsed": true
   },
   "outputs": [],
   "source": [
    "ObservationsDF = pd.read_pickle(DATADIR+\"All_Observations.pkl\")\n",
    "system='HD 116029'\n",
    "Observations = ObservationsDF.query('system==@system')"
   ]
  },
  {
   "cell_type": "markdown",
   "metadata": {},
   "source": [
    "## 1. 'Full' model"
   ]
  },
  {
   "cell_type": "markdown",
   "metadata": {},
   "source": [
    "Select observations for specific system"
   ]
  },
  {
   "cell_type": "markdown",
   "metadata": {},
   "source": [
    "Generate `radvel` likelihood object for 'Full' model"
   ]
  },
  {
   "cell_type": "code",
   "execution_count": 14,
   "metadata": {
    "collapsed": true
   },
   "outputs": [],
   "source": [
    "full_model_like = get_radvel_like(Observations)"
   ]
  },
  {
   "cell_type": "markdown",
   "metadata": {},
   "source": [
    "Set initial values of 'like' object parameters to the median values from a previous MCMC fit.\n",
    "The values of some of these parameters are used below to fix appropriate prior ranges for nested sampling."
   ]
  },
  {
   "cell_type": "code",
   "execution_count": 15,
   "metadata": {
    "collapsed": true
   },
   "outputs": [],
   "source": [
    "try:\n",
    "    # Get MCMC posterior sample file\n",
    "    dname = re.sub(\"HD \",\"HD\",system)\n",
    "    dname = re.sub(\"BD\\+20 \",\"BD+20_\",dname)\n",
    "    datadir = DATADIR+dname\n",
    "    with open(datadir+\"/full_model_post_v2.0.pkl\",\"rb\") as fi:\n",
    "        posterior_samples = pickle.load(fi)\n",
    "    for key in full_model_like.list_vary_params():\n",
    "        if key in posterior_samples.columns.values:\n",
    "            full_model_like.params[key].value = posterior_samples[key].median()\n",
    "except:\n",
    "    print(\n",
    "    \"\"\" \n",
    "    Didn't find file: \\n\\n\\t{}\\n\n",
    "    containing posterior samples from an MCMC fit. \n",
    "    You'll have to find your own way to initialize\n",
    "    the parameter values in 'like' to a good \n",
    "    starting point.\n",
    "    \"\"\".format(datadir+\"/full_model_post_v2.0.pkl\")\n",
    "    )"
   ]
  },
  {
   "cell_type": "markdown",
   "metadata": {},
   "source": [
    "Create posterior object for radvel MCMC fit"
   ]
  },
  {
   "cell_type": "code",
   "execution_count": 16,
   "metadata": {},
   "outputs": [],
   "source": [
    "k1med = posterior_samples['k1'].median()\n",
    "k2med = posterior_samples['k2'].median()"
   ]
  },
  {
   "cell_type": "code",
   "execution_count": 18,
   "metadata": {},
   "outputs": [],
   "source": [
    "full_model_post = radvel.posterior.Posterior(full_model_like)\n",
    "full_model_priors = [\n",
    "    radvel.prior.Jeffreys('k1',0.2 * k1med, 5 * k1med ),\n",
    "    radvel.prior.Jeffreys('k2',0.2 * k2med, 5 * k2med ),\n",
    "    radvel.prior.EccentricityPrior(2)\n",
    "]\n",
    "full_model_post.priors += full_model_priors"
   ]
  },
  {
   "cell_type": "markdown",
   "metadata": {},
   "source": [
    "Get max-likelihood starting point using scipy's minimize"
   ]
  },
  {
   "cell_type": "code",
   "execution_count": 19,
   "metadata": {
    "collapsed": true
   },
   "outputs": [],
   "source": [
    "from scipy.optimize import minimize"
   ]
  },
  {
   "cell_type": "code",
   "execution_count": 21,
   "metadata": {},
   "outputs": [
    {
     "name": "stdout",
     "output_type": "stream",
     "text": [
      "Before fit: logprob: -92.98, loglike: -84.13\n",
      "After fit: logprob: -90.42, loglike: -81.57\n"
     ]
    }
   ],
   "source": [
    "print(\"Before fit: logprob: {:.2f}, loglike: {:.2f}\".format(full_model_post.logprob(),full_model_like.logprob()))\n",
    "\n",
    "minresult = minimize(full_model_post.neglogprob_array,full_model_post.get_vary_params())\n",
    "\n",
    "print(\"After fit: logprob: {:.2f}, loglike: {:.2f}\".format(full_model_post.logprob(),full_model_like.logprob()))"
   ]
  },
  {
   "cell_type": "markdown",
   "metadata": {},
   "source": [
    "Take a look at the fit"
   ]
  },
  {
   "cell_type": "code",
   "execution_count": 23,
   "metadata": {},
   "outputs": [
    {
     "data": {
      "image/png": "[encoded data removed]",
      "text/plain": [
       "<matplotlib.figure.Figure at 0x128a7c5c0>"
      ]
     },
     "metadata": {
      "needs_background": "light"
     },
     "output_type": "display_data"
    }
   ],
   "source": [
    "from ResonantRV_Utils import plot_fit\n",
    "plot_fit(full_model_post.likelihood)"
   ]
  },
  {
   "cell_type": "markdown",
   "metadata": {},
   "source": [
    "### 1.1 MCMC Fitting\n",
    " This section runs `radvel`'s MCMC fit to generate posterior samples.  \n",
    " \n",
    " \n",
    "Note that parameterization used by our `full_model_post` object is probably not ideal for MCMC sampling; usually MCMC jumps have higher acceptance rate if we parameterize eccentricies and arguments of periapse are sampled in cartesian coordinates. Nonetheless, the MCMC doesn't appear to have much trouble.\n"
   ]
  },
  {
   "cell_type": "code",
   "execution_count": 24,
   "metadata": {
    "scrolled": true
   },
   "outputs": [
    {
     "name": "stdout",
     "output_type": "stream",
     "text": [
      "200000/4000000 (5.0%) steps complete; Running 9435.88 steps/s; Mean acceptance rate = 31.4%; Min Tz = 6990.9; Max G-R = 1.004      \n",
      "Discarding burn-in now that the chains are marginally well-mixed\n",
      "\n",
      "560000/4000000 (14.0%) steps complete; Running 11114.05 steps/s; Mean acceptance rate = 16.1%; Min Tz = 3244.8; Max G-R = 1.009      \n",
      "Chains are well-mixed after 560000 steps! MCMC completed in 52.1 seconds\n",
      "\n",
      "\n"
     ]
    }
   ],
   "source": [
    "mcmc_results = radvel.mcmc(full_model_post)"
   ]
  },
  {
   "cell_type": "markdown",
   "metadata": {},
   "source": [
    "Plot posterior distributions of semi-amplitudes and compare with the old saved samples. Note that the new samples are saved with "
   ]
  },
  {
   "cell_type": "code",
   "execution_count": 29,
   "metadata": {},
   "outputs": [
    {
     "data": {
      "text/plain": [
       "<matplotlib.axes._subplots.AxesSubplot at 0x10c4ae710>"
      ]
     },
     "execution_count": 29,
     "metadata": {},
     "output_type": "execute_result"
    },
    {
     "data": {
      "image/png": "[encoded data removed]",
      "text/plain": [
       "<matplotlib.figure.Figure at 0x125dbc9b0>"
      ]
     },
     "metadata": {
      "needs_background": "light"
     },
     "output_type": "display_data"
    }
   ],
   "source": [
    "fig,ax= plt.subplots(2)\n",
    "\n",
    "mcmc_results.k1.hist(bins=40,histtype='step',ax=ax[0],normed=True)\n",
    "posterior_samples.k1.hist(bins=40,histtype='step',ax=ax[0],normed=True)\n",
    "\n",
    "mcmc_results.k2.hist(bins=40,histtype='step',ax=ax[1],normed=True)\n",
    "posterior_samples.k2.hist(bins=40,histtype='step',ax=ax[1],normed=True)"
   ]
  },
  {
   "cell_type": "markdown",
   "metadata": {},
   "source": [
    "### 1.2 Nested sampling fit"
   ]
  },
  {
   "cell_type": "markdown",
   "metadata": {},
   "source": [
    "Generate a (callable) prior transform object that defines a mapping from the unit hyper-cube to the parameters appearing in the likelihood model. The unit-hypercube is sampled uniformly by the nested sampling algorithm."
   ]
  },
  {
   "cell_type": "code",
   "execution_count": 31,
   "metadata": {
    "collapsed": true
   },
   "outputs": [],
   "source": [
    "full_model_prior_transform = RadvelModelPriorTransform(Observations,full_model_like)"
   ]
  },
  {
   "cell_type": "markdown",
   "metadata": {},
   "source": [
    "Get a dynesty NestedSample object"
   ]
  },
  {
   "cell_type": "code",
   "execution_count": 32,
   "metadata": {
    "collapsed": true
   },
   "outputs": [],
   "source": [
    "full_model_nested_sampler = dynesty.NestedSampler(\n",
    "    full_model_like.logprob_array,\n",
    "    full_model_prior_transform,\n",
    "    full_model_prior_transform.Npars,\n",
    "    sample='rwalk'\n",
    ")"
   ]
  },
  {
   "cell_type": "markdown",
   "metadata": {},
   "source": [
    "Run nested sampling"
   ]
  },
  {
   "cell_type": "code",
   "execution_count": 33,
   "metadata": {},
   "outputs": [
    {
     "name": "stderr",
     "output_type": "stream",
     "text": [
      "iter: 15314 | +500 | bound: 223 | nc: 1 | ncall: 356805 | eff(%):  4.432 | loglstar:   -inf < -83.422 <    inf | logz: -113.480 +/-  0.251 | dlogz:  0.001 >  0.509                                   "
     ]
    }
   ],
   "source": [
    "_ = full_model_nested_sampler.run_nested()"
   ]
  },
  {
   "cell_type": "markdown",
   "metadata": {},
   "source": [
    "Save the results of nested sampling run."
   ]
  },
  {
   "cell_type": "code",
   "execution_count": 34,
   "metadata": {
    "collapsed": true
   },
   "outputs": [],
   "source": [
    "full_model_nested_results = full_model_nested_sampler.results"
   ]
  },
  {
   "cell_type": "code",
   "execution_count": 35,
   "metadata": {},
   "outputs": [
    {
     "data": {
      "text/plain": [
       "-113.47956174177965"
      ]
     },
     "execution_count": 35,
     "metadata": {},
     "output_type": "execute_result"
    }
   ],
   "source": [
    "full_model_nested_results['logz'][-1]"
   ]
  },
  {
   "cell_type": "markdown",
   "metadata": {},
   "source": [
    "## 2. ACR model"
   ]
  },
  {
   "cell_type": "markdown",
   "metadata": {},
   "source": [
    "Generate likelihood object for ACR model"
   ]
  },
  {
   "cell_type": "code",
   "execution_count": 36,
   "metadata": {},
   "outputs": [],
   "source": [
    "acr_model_like = get_acr_like(Observations,3,1)"
   ]
  },
  {
   "cell_type": "markdown",
   "metadata": {},
   "source": [
    "Set initial values of 'like' object parameters to the median values from a previous MCMC fit.\n",
    "The values of some of these parameters are used below to fix appropriate prior ranges for nested sampling."
   ]
  },
  {
   "cell_type": "code",
   "execution_count": 37,
   "metadata": {
    "collapsed": true
   },
   "outputs": [],
   "source": [
    "try:\n",
    "    # Get MCMC posterior sample file\n",
    "    dname = re.sub(\"HD \",\"HD\",system)\n",
    "    dname = re.sub(\"BD\\+20 \",\"BD+20_\",dname)\n",
    "    datadir = DATADIR+dname\n",
    "    with open(datadir+\"/full_model_post_v2.0.pkl\",\"rb\") as fi:\n",
    "        posterior_samples = pickle.load(fi)\n",
    "    for key in acr_model_like.list_vary_params():\n",
    "        if key in posterior_samples.columns.values:\n",
    "            acr_model_like.params[key].value = posterior_samples[key].median()\n",
    "except:\n",
    "    print(\n",
    "    \"\"\" \n",
    "    Didn't find file: \\n\\n\\t{}\\n\n",
    "    containing posterior samples from an MCMC fit. \n",
    "    You'll have to find your own way to initialize\n",
    "    the parameter values in 'like' to a good \n",
    "    starting point.\n",
    "    \"\"\".format(datadir+\"/full_model_post_v2.0.pkl\")\n",
    "    )"
   ]
  },
  {
   "cell_type": "markdown",
   "metadata": {},
   "source": [
    "Create posterior object for radvel MCMC fit"
   ]
  },
  {
   "cell_type": "code",
   "execution_count": 38,
   "metadata": {},
   "outputs": [],
   "source": [
    "acr_model_post = radvel.posterior.Posterior(acr_model_like)\n",
    "acrpriors = [\n",
    "    ACRModelPrior(),\n",
    "    radvel.prior.Jeffreys('k1',0.2 * k1med, 5 * k1med ),\n",
    "    radvel.prior.Jeffreys('m2_by_m1',0.1,10)\n",
    "]\n",
    "acr_model_post.priors += acrpriors"
   ]
  },
  {
   "cell_type": "markdown",
   "metadata": {},
   "source": [
    "Get max-likelihood starting point using scipy's minimize"
   ]
  },
  {
   "cell_type": "code",
   "execution_count": 39,
   "metadata": {
    "collapsed": true
   },
   "outputs": [],
   "source": [
    "from scipy.optimize import minimize"
   ]
  },
  {
   "cell_type": "code",
   "execution_count": 40,
   "metadata": {},
   "outputs": [
    {
     "name": "stdout",
     "output_type": "stream",
     "text": [
      "Before fit: logprob: -195.56, loglike: -195.56\n",
      "After fit: logprob: -103.51, loglike: -103.51\n"
     ]
    }
   ],
   "source": [
    "print(\"Before fit: logprob: {:.2f}, loglike: {:.2f}\".format(acr_model_post.logprob(),acr_model_post.logprob()))\n",
    "\n",
    "minresult = minimize(acr_model_post.neglogprob_array,acr_model_post.get_vary_params())\n",
    "\n",
    "print(\"After fit: logprob: {:.2f}, loglike: {:.2f}\".format(acr_model_post.logprob(),acr_model_post.logprob()))"
   ]
  },
  {
   "cell_type": "markdown",
   "metadata": {},
   "source": [
    "Take a look at the fit"
   ]
  },
  {
   "cell_type": "code",
   "execution_count": 42,
   "metadata": {},
   "outputs": [
    {
     "data": {
      "image/png": "[encoded data removed]",
      "text/plain": [
       "<matplotlib.figure.Figure at 0x128607ef0>"
      ]
     },
     "metadata": {
      "needs_background": "light"
     },
     "output_type": "display_data"
    }
   ],
   "source": [
    "from ResonantRV_Utils import plot_fit\n",
    "plot_fit(acr_model_post.likelihood)"
   ]
  },
  {
   "cell_type": "markdown",
   "metadata": {},
   "source": [
    "### 2.1 MCMC Fit"
   ]
  },
  {
   "cell_type": "code",
   "execution_count": 43,
   "metadata": {
    "scrolled": false
   },
   "outputs": [
    {
     "name": "stdout",
     "output_type": "stream",
     "text": [
      "200000/4000000 (5.0%) steps complete; Running 14467.83 steps/s; Mean acceptance rate = 44.0%; Min Tz = 1071.6; Max G-R = 1.027      \n",
      "Discarding burn-in now that the chains are marginally well-mixed\n",
      "\n",
      "820000/4000000 (20.5%) steps complete; Running 10996.79 steps/s; Mean acceptance rate = 41.9%; Min Tz = 5316.1; Max G-R = 1.005      \n",
      "Chains are well-mixed after 820000 steps! MCMC completed in 1.1 minutes\n",
      "\n",
      "\n"
     ]
    }
   ],
   "source": [
    "acr_model_mcmc_results = radvel.mcmc(acr_model_post)"
   ]
  },
  {
   "cell_type": "markdown",
   "metadata": {},
   "source": [
    "The cells below show the eccentricity posteriors of the ACR model. \n",
    "ACR tracks for the 1st and 99th percentile $m_2/m_1$ values are plotted for comparison."
   ]
  },
  {
   "cell_type": "code",
   "execution_count": 44,
   "metadata": {},
   "outputs": [],
   "source": [
    "# Get planet eccentricities at posterior samples.\n",
    "# Caution: iterrows is annoyingly slow...\n",
    "e1,e2=[],[]\n",
    "for i,x in  acr_model_mcmc_results[acr_model_post.likelihood.list_vary_params()].iterrows():\n",
    "    acr_model_post.likelihood.set_vary_params(x)\n",
    "    e1.append( acr_model_post.likelihood.model.get_synthparams()['e1'].value )\n",
    "    e2.append( acr_model_post.likelihood.model.get_synthparams()['e2'].value )\n",
    "acr_model_mcmc_results['e1'] = e1\n",
    "acr_model_mcmc_results['e2'] = e2"
   ]
  },
  {
   "cell_type": "code",
   "execution_count": 56,
   "metadata": {},
   "outputs": [
    {
     "data": {
      "text/plain": [
       "(0, 0.4)"
      ]
     },
     "execution_count": 56,
     "metadata": {},
     "output_type": "execute_result"
    },
    {
     "data": {
      "image/png": "[encoded data removed]",
      "text/plain": [
       "<matplotlib.figure.Figure at 0x12a542860>"
      ]
     },
     "metadata": {
      "needs_background": "light"
     },
     "output_type": "display_data"
    }
   ],
   "source": [
    "from corner import hist2d\n",
    "\n",
    "from scipy.special import erf\n",
    "fig,ax = plt.subplots(1)\n",
    "\n",
    "hist2d(\n",
    "    acr_model_mcmc_results['e1'].values,acr_model_mcmc_results['e2'].values,\n",
    "    bins = 40,\n",
    "    levels=[erf(i/np.sqrt(2)) for i in range(1,4)],\n",
    "    plot_datapoints=False, plot_density=False,\n",
    "    ax = ax    \n",
    ")\n",
    "\n",
    "for mratio in acr_model_mcmc_results.m2_by_m1.quantile((.01,0.99)):\n",
    "    x,y = np.transpose([ acr_model_post.likelihood.model._acr_curves_fn(mratio,t) for t in np.linspace(0,1)])\n",
    "    ax.plot(x,y,lw=3,color='red')\n",
    "ax.set_xlim(0,0.4)\n",
    "ax.set_ylim(0,0.4)"
   ]
  },
  {
   "cell_type": "markdown",
   "metadata": {},
   "source": [
    "### 2.2 Nested sampling fit"
   ]
  },
  {
   "cell_type": "markdown",
   "metadata": {},
   "source": [
    "Generate a (callable) prior transform object that defines a mapping from the unit hyper-cube to the parameters appearing in the likelihood model. The unit-hypercube is sampled uniformly by the nested sampling algorithm."
   ]
  },
  {
   "cell_type": "code",
   "execution_count": 46,
   "metadata": {
    "collapsed": true
   },
   "outputs": [],
   "source": [
    "acr_model_prior_transform = ACRModelPriorTransform(Observations,acr_model_like)"
   ]
  },
  {
   "cell_type": "markdown",
   "metadata": {},
   "source": [
    "Get a dynesty NestedSample object"
   ]
  },
  {
   "cell_type": "code",
   "execution_count": 47,
   "metadata": {
    "collapsed": true
   },
   "outputs": [],
   "source": [
    "sampler_acr_model = dynesty.NestedSampler(\n",
    "    acr_model_like.logprob_array,\n",
    "    acr_model_prior_transform,\n",
    "    acr_model_prior_transform.Npars,\n",
    "    sample='rwalk'\n",
    ")"
   ]
  },
  {
   "cell_type": "markdown",
   "metadata": {},
   "source": [
    "Run nested sampling"
   ]
  },
  {
   "cell_type": "code",
   "execution_count": 48,
   "metadata": {},
   "outputs": [
    {
     "name": "stderr",
     "output_type": "stream",
     "text": [
      "iter: 11884 | +500 | bound: 147 | nc: 1 | ncall: 271404 | eff(%):  4.563 | loglstar:   -inf < -85.013 <    inf | logz: -108.188 +/-  0.221 | dlogz:  0.001 >  0.509                                   "
     ]
    }
   ],
   "source": [
    "_ = sampler_acr_model.run_nested()"
   ]
  },
  {
   "cell_type": "markdown",
   "metadata": {},
   "source": [
    "Save the results of nested sampling run."
   ]
  },
  {
   "cell_type": "code",
   "execution_count": 49,
   "metadata": {
    "collapsed": true
   },
   "outputs": [],
   "source": [
    "acr_model_nested_results = sampler_acr_model.results"
   ]
  },
  {
   "cell_type": "code",
   "execution_count": 50,
   "metadata": {},
   "outputs": [
    {
     "data": {
      "text/plain": [
       "-108.18767368804208"
      ]
     },
     "execution_count": 50,
     "metadata": {},
     "output_type": "execute_result"
    }
   ],
   "source": [
    "acr_model_nested_results['logz'][-1]"
   ]
  },
  {
   "cell_type": "markdown",
   "metadata": {},
   "source": [
    "# Model comparison"
   ]
  },
  {
   "cell_type": "markdown",
   "metadata": {},
   "source": [
    "All that is left to do now is to compute the log of our Bayesian odds ratio for our two models:\n",
    "$$\n",
    "\\log\\left(\\frac{{\\cal Z}_{ACR}}{{\\cal Z}_{full}}\\right)\n",
    "$$"
   ]
  },
  {
   "cell_type": "code",
   "execution_count": 52,
   "metadata": {},
   "outputs": [
    {
     "data": {
      "text/plain": [
       "5.291888053737566"
      ]
     },
     "execution_count": 52,
     "metadata": {},
     "output_type": "execute_result"
    }
   ],
   "source": [
    "acr_model_nested_results['logz'][-1] - full_model_nested_results['logz'][-1]"
   ]
  },
  {
   "cell_type": "code",
   "execution_count": null,
   "metadata": {
    "collapsed": true
   },
   "outputs": [],
   "source": []
  }
 ],
 "metadata": {
  "kernelspec": {
   "display_name": "Python 3",
   "language": "python",
   "name": "python3"
  },
  "language_info": {
   "codemirror_mode": {
    "name": "ipython",
    "version": 3
   },
   "file_extension": ".py",
   "mimetype": "text/x-python",
   "name": "python",
   "nbconvert_exporter": "python",
   "pygments_lexer": "ipython3",
   "version": "3.6.8"
  }
 },
 "nbformat": 4,
 "nbformat_minor": 2
}
